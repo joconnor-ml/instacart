{
 "cells": [
  {
   "cell_type": "code",
   "execution_count": 1,
   "metadata": {},
   "outputs": [
    {
     "name": "stderr",
     "output_type": "stream",
     "text": [
      "/home/joe/kaggle/mercedes/.env/lib/python3.5/site-packages/sklearn/cross_validation.py:44: DeprecationWarning: This module was deprecated in version 0.18 in favor of the model_selection module into which all the refactored classes and functions are moved. Also note that the interface of the new CV iterators are different from that of this module. This module will be removed in 0.20.\n",
      "  \"This module will be removed in 0.20.\", DeprecationWarning)\n"
     ]
    }
   ],
   "source": [
    "import pickle as pkl\n",
    "import numpy as np\n",
    "import pandas as pd\n",
    "import operator\n",
    "from sklearn.linear_model import LogisticRegressionCV, LogisticRegression\n",
    "from sklearn.model_selection import cross_val_predict, cross_val_score, KFold\n",
    "from sklearn.pipeline import make_pipeline\n",
    "from sklearn.preprocessing import Imputer, StandardScaler, MinMaxScaler, PolynomialFeatures\n",
    "from sklearn.metrics import log_loss, roc_auc_score, f1_score\n",
    "from xgboost import XGBClassifier"
   ]
  },
  {
   "cell_type": "code",
   "execution_count": 2,
   "metadata": {
    "collapsed": true
   },
   "outputs": [],
   "source": [
    "def f1_score_single(y_true, y_pred):\n",
    "    try:\n",
    "        y_true = set(list(y_true))\n",
    "        y_pred = set(list(y_pred))\n",
    "        cross_size = len(y_true & y_pred)\n",
    "        if cross_size == 0: return 0.\n",
    "        p = 1. * cross_size / len(y_pred)\n",
    "        r = 1. * cross_size / len(y_true)\n",
    "        return 2 * p * r / (p + r)\n",
    "    except:\n",
    "        return 0\n",
    "    \n",
    "def f1_score(y_true, y_pred):\n",
    "    return np.mean([f1_score_single(x, y) for x, y in zip(y_true, y_pred)])"
   ]
  },
  {
   "cell_type": "code",
   "execution_count": 3,
   "metadata": {},
   "outputs": [
    {
     "name": "stderr",
     "output_type": "stream",
     "text": [
      "/home/joe/kaggle/mercedes/.env/lib/python3.5/site-packages/numpy/lib/arraysetops.py:463: FutureWarning: elementwise comparison failed; returning scalar instead, but in the future will perform elementwise comparison\n",
      "  mask |= (ar1 == a)\n"
     ]
    },
    {
     "data": {
      "text/plain": [
       "order_id\n",
       "1     [49302, 11109, 10246, 49683, 43633, 13176, 472...\n",
       "36    [39612, 19660, 49235, 43086, 46620, 34497, 486...\n",
       "38    [11913, 18159, 4461, 21616, 23622, 32433, 2884...\n",
       "96    [20574, 30391, 40706, 25610, 27966, 24489, 39275]\n",
       "98    [8859, 19731, 43654, 13176, 4357, 37664, 34065...\n",
       "Name: product_id, dtype: object"
      ]
     },
     "execution_count": 3,
     "metadata": {},
     "output_type": "execute_result"
    }
   ],
   "source": [
    "orders = pd.read_csv('../data/orders.csv', dtype={\"order_id\": np.int32, \"user_id\": np.int32,\n",
    "                                                  \"eval_set\": \"category\", \"order_number\": np.int32,\n",
    "                                                  \"order_dow\": np.int32, \"order_hour_of_day\": np.int32,\n",
    "                                                  \"days_since_prior_order\": np.float32})\n",
    "test = orders[orders[\"eval_set\"] == \"train\"]\n",
    "test_users = test[\"user_id\"].unique()\n",
    "train = orders[(orders[\"eval_set\"] == \"prior\") & (orders[\"user_id\"].isin(test_users))]\n",
    "\n",
    "truth = pd.read_csv('../data/order_products__train.csv', dtype=np.int32, index_col=0).groupby(\"order_id\")[\"product_id\"].apply(list)\n",
    "truth.head()"
   ]
  },
  {
   "cell_type": "code",
   "execution_count": 4,
   "metadata": {
    "collapsed": true
   },
   "outputs": [],
   "source": [
    "user_orders = train.groupby(\"user_id\")[\"order_id\"].apply(list)"
   ]
  },
  {
   "cell_type": "code",
   "execution_count": 5,
   "metadata": {},
   "outputs": [
    {
     "name": "stderr",
     "output_type": "stream",
     "text": [
      "/home/joe/kaggle/mercedes/.env/lib/python3.5/site-packages/numpy/lib/arraysetops.py:463: FutureWarning: elementwise comparison failed; returning scalar instead, but in the future will perform elementwise comparison\n",
      "  mask |= (ar1 == a)\n"
     ]
    }
   ],
   "source": [
    "train_products = pd.read_csv('../data/order_products__prior.csv', dtype=np.int32, index_col=0)\n",
    "train_products = train_products.loc[train[\"order_id\"], \"product_id\"].groupby(\"order_id\").apply(list)"
   ]
  },
  {
   "cell_type": "code",
   "execution_count": 6,
   "metadata": {
    "scrolled": true
   },
   "outputs": [
    {
     "name": "stdout",
     "output_type": "stream",
     "text": [
      "10000\n",
      "20000\n",
      "50000\n",
      "60000\n",
      "80000\n",
      "90000\n",
      "100000\n",
      "130000\n",
      "140000\n",
      "150000\n",
      "160000\n",
      "170000\n",
      "180000\n",
      "190000\n"
     ]
    }
   ],
   "source": [
    "from collections import defaultdict\n",
    "user_products = defaultdict(list)\n",
    "for user, order_ids in user_orders.iteritems():\n",
    "    if user % 10000 == 0: print(user)\n",
    "    products = train_products.loc[order_ids]\n",
    "    user_products[user] = products"
   ]
  },
  {
   "cell_type": "code",
   "execution_count": 7,
   "metadata": {},
   "outputs": [
    {
     "ename": "MemoryError",
     "evalue": "",
     "output_type": "error",
     "traceback": [
      "\u001b[0;31m---------------------------------------------------------------------------\u001b[0m",
      "\u001b[0;31mMemoryError\u001b[0m                               Traceback (most recent call last)",
      "\u001b[0;32m<ipython-input-7-e067de8f33cf>\u001b[0m in \u001b[0;36m<module>\u001b[0;34m()\u001b[0m\n\u001b[1;32m      1\u001b[0m \u001b[0;32mwith\u001b[0m \u001b[0mopen\u001b[0m\u001b[0;34m(\u001b[0m\u001b[0;34m\"user_products.pkl\"\u001b[0m\u001b[0;34m,\u001b[0m \u001b[0;34m\"wb\"\u001b[0m\u001b[0;34m)\u001b[0m \u001b[0;32mas\u001b[0m \u001b[0mf\u001b[0m\u001b[0;34m:\u001b[0m\u001b[0;34m\u001b[0m\u001b[0m\n\u001b[0;32m----> 2\u001b[0;31m     \u001b[0mpkl\u001b[0m\u001b[0;34m.\u001b[0m\u001b[0mdump\u001b[0m\u001b[0;34m(\u001b[0m\u001b[0muser_products\u001b[0m\u001b[0;34m,\u001b[0m \u001b[0mf\u001b[0m\u001b[0;34m)\u001b[0m\u001b[0;34m\u001b[0m\u001b[0m\n\u001b[0m",
      "\u001b[0;31mMemoryError\u001b[0m: "
     ]
    }
   ],
   "source": [
    "with open(\"user_products.pkl\", \"wb\") as f:\n",
    "    pkl.dump(user_products, f)"
   ]
  },
  {
   "cell_type": "code",
   "execution_count": 8,
   "metadata": {},
   "outputs": [
    {
     "name": "stdout",
     "output_type": "stream",
     "text": [
      "10000\n",
      "20000\n",
      "50000\n",
      "60000\n"
     ]
    }
   ],
   "source": [
    "rows = []\n",
    "for user, products in user_products.items():\n",
    "    if user % 10000 == 0: print(user)\n",
    "    if user > 60000: break\n",
    "    product_counts = pd.Series(products.sum()).value_counts()\n",
    "    total_orders = products.shape[0]\n",
    "    for product, count in product_counts.iteritems():\n",
    "        in_last_order1 = product in products.iloc[-1]\n",
    "        in_last_order2 = product in products.iloc[-2]\n",
    "        in_last_order3 = product in products.iloc[-3]\n",
    "        rows.append([product, user, count, in_last_order1, in_last_order2, in_last_order3, total_orders]) #... etc"
   ]
  },
  {
   "cell_type": "code",
   "execution_count": 9,
   "metadata": {},
   "outputs": [
    {
     "data": {
      "text/html": [
       "<div>\n",
       "<style>\n",
       "    .dataframe thead tr:only-child th {\n",
       "        text-align: right;\n",
       "    }\n",
       "\n",
       "    .dataframe thead th {\n",
       "        text-align: left;\n",
       "    }\n",
       "\n",
       "    .dataframe tbody tr th {\n",
       "        vertical-align: top;\n",
       "    }\n",
       "</style>\n",
       "<table border=\"1\" class=\"dataframe\">\n",
       "  <thead>\n",
       "    <tr style=\"text-align: right;\">\n",
       "      <th></th>\n",
       "      <th>product_id</th>\n",
       "      <th>user_id</th>\n",
       "      <th>product_count</th>\n",
       "      <th>in_last_order1</th>\n",
       "      <th>in_last_order2</th>\n",
       "      <th>in_last_order3</th>\n",
       "      <th>total_orders</th>\n",
       "      <th>order_frac</th>\n",
       "      <th>order_id</th>\n",
       "      <th>order_number</th>\n",
       "      <th>order_dow</th>\n",
       "      <th>order_hour_of_day</th>\n",
       "      <th>days_since_prior_order</th>\n",
       "      <th>aisle_id</th>\n",
       "      <th>department_id</th>\n",
       "    </tr>\n",
       "  </thead>\n",
       "  <tbody>\n",
       "    <tr>\n",
       "      <th>2459543</th>\n",
       "      <td>29112</td>\n",
       "      <td>60000</td>\n",
       "      <td>1</td>\n",
       "      <td>False</td>\n",
       "      <td>False</td>\n",
       "      <td>True</td>\n",
       "      <td>3</td>\n",
       "      <td>0.333333</td>\n",
       "      <td>2854165</td>\n",
       "      <td>4</td>\n",
       "      <td>6</td>\n",
       "      <td>17</td>\n",
       "      <td>2.0</td>\n",
       "      <td>59</td>\n",
       "      <td>15</td>\n",
       "    </tr>\n",
       "    <tr>\n",
       "      <th>2459544</th>\n",
       "      <td>28473</td>\n",
       "      <td>60000</td>\n",
       "      <td>1</td>\n",
       "      <td>False</td>\n",
       "      <td>False</td>\n",
       "      <td>True</td>\n",
       "      <td>3</td>\n",
       "      <td>0.333333</td>\n",
       "      <td>2854165</td>\n",
       "      <td>4</td>\n",
       "      <td>6</td>\n",
       "      <td>17</td>\n",
       "      <td>2.0</td>\n",
       "      <td>107</td>\n",
       "      <td>19</td>\n",
       "    </tr>\n",
       "    <tr>\n",
       "      <th>2459545</th>\n",
       "      <td>19578</td>\n",
       "      <td>60000</td>\n",
       "      <td>1</td>\n",
       "      <td>False</td>\n",
       "      <td>False</td>\n",
       "      <td>True</td>\n",
       "      <td>3</td>\n",
       "      <td>0.333333</td>\n",
       "      <td>2854165</td>\n",
       "      <td>4</td>\n",
       "      <td>6</td>\n",
       "      <td>17</td>\n",
       "      <td>2.0</td>\n",
       "      <td>54</td>\n",
       "      <td>17</td>\n",
       "    </tr>\n",
       "    <tr>\n",
       "      <th>2459546</th>\n",
       "      <td>4091</td>\n",
       "      <td>60000</td>\n",
       "      <td>1</td>\n",
       "      <td>False</td>\n",
       "      <td>False</td>\n",
       "      <td>True</td>\n",
       "      <td>3</td>\n",
       "      <td>0.333333</td>\n",
       "      <td>2854165</td>\n",
       "      <td>4</td>\n",
       "      <td>6</td>\n",
       "      <td>17</td>\n",
       "      <td>2.0</td>\n",
       "      <td>110</td>\n",
       "      <td>13</td>\n",
       "    </tr>\n",
       "    <tr>\n",
       "      <th>2459547</th>\n",
       "      <td>1823</td>\n",
       "      <td>60000</td>\n",
       "      <td>1</td>\n",
       "      <td>False</td>\n",
       "      <td>True</td>\n",
       "      <td>False</td>\n",
       "      <td>3</td>\n",
       "      <td>0.333333</td>\n",
       "      <td>2854165</td>\n",
       "      <td>4</td>\n",
       "      <td>6</td>\n",
       "      <td>17</td>\n",
       "      <td>2.0</td>\n",
       "      <td>45</td>\n",
       "      <td>19</td>\n",
       "    </tr>\n",
       "  </tbody>\n",
       "</table>\n",
       "</div>"
      ],
      "text/plain": [
       "         product_id  user_id  product_count  in_last_order1  in_last_order2  \\\n",
       "2459543       29112    60000              1           False           False   \n",
       "2459544       28473    60000              1           False           False   \n",
       "2459545       19578    60000              1           False           False   \n",
       "2459546        4091    60000              1           False           False   \n",
       "2459547        1823    60000              1           False            True   \n",
       "\n",
       "         in_last_order3  total_orders  order_frac  order_id  order_number  \\\n",
       "2459543            True             3    0.333333   2854165             4   \n",
       "2459544            True             3    0.333333   2854165             4   \n",
       "2459545            True             3    0.333333   2854165             4   \n",
       "2459546            True             3    0.333333   2854165             4   \n",
       "2459547           False             3    0.333333   2854165             4   \n",
       "\n",
       "         order_dow  order_hour_of_day  days_since_prior_order  aisle_id  \\\n",
       "2459543          6                 17                     2.0        59   \n",
       "2459544          6                 17                     2.0       107   \n",
       "2459545          6                 17                     2.0        54   \n",
       "2459546          6                 17                     2.0       110   \n",
       "2459547          6                 17                     2.0        45   \n",
       "\n",
       "         department_id  \n",
       "2459543             15  \n",
       "2459544             19  \n",
       "2459545             17  \n",
       "2459546             13  \n",
       "2459547             19  "
      ]
     },
     "execution_count": 9,
     "metadata": {},
     "output_type": "execute_result"
    }
   ],
   "source": [
    "df = pd.DataFrame(rows, columns=[\"product_id\", \"user_id\", \"product_count\",\n",
    "                                 \"in_last_order1\", \"in_last_order2\", \"in_last_order3\",\n",
    "                                 \"total_orders\"])\n",
    "df[\"order_frac\"] = df[\"product_count\"] / df[\"total_orders\"]\n",
    "df = pd.merge(df, test.drop([\"eval_set\"], axis=1), on=\"user_id\")\n",
    "df = pd.merge(df, pd.read_csv(\"../data/products.csv\", index_col=0,\n",
    "                              usecols=[\"product_id\", \"aisle_id\", \"department_id\"]),\n",
    "              how=\"left\", left_on=\"product_id\", right_index=True)\n",
    "df.tail()"
   ]
  },
  {
   "cell_type": "code",
   "execution_count": 10,
   "metadata": {},
   "outputs": [
    {
     "name": "stdout",
     "output_type": "stream",
     "text": [
      "0.1 0.248010053787\n",
      "0.2 0.274756099963\n",
      "0.3 0.273334739853\n",
      "0.4 0.262264248147\n",
      "0.5 0.250410029707\n"
     ]
    }
   ],
   "source": [
    "for i in np.linspace(0.1, 0.5, 5):\n",
    "    a = pd.DataFrame(df[df[\"order_frac\"] >= i].groupby(\"user_id\")[\"product_id\"].apply(list))\n",
    "    results = pd.merge(test, a, left_on=\"user_id\", right_index=True).join(truth, on=\"order_id\", rsuffix=\"_pred\")\n",
    "    print(i, f1_score(results[\"product_id\"], results[\"product_id_pred\"]))"
   ]
  },
  {
   "cell_type": "code",
   "execution_count": 11,
   "metadata": {
    "collapsed": true
   },
   "outputs": [],
   "source": [
    "y = []\n",
    "for i, row in df.iterrows():\n",
    "    y.append(row[\"product_id\"] in truth[row[\"order_id\"]])"
   ]
  },
  {
   "cell_type": "code",
   "execution_count": 12,
   "metadata": {
    "collapsed": true
   },
   "outputs": [],
   "source": [
    "df[\"y\"] = y\n",
    "df.to_csv(\"product_train_features.csv\")"
   ]
  },
  {
   "cell_type": "code",
   "execution_count": null,
   "metadata": {},
   "outputs": [],
   "source": [
    "p1 = cross_val_predict(make_pipeline(MinMaxScaler(), LogisticRegression()), df, y, method=\"predict_proba\")\n",
    "print(log_loss(y, p1), roc_auc_score(y, p1[:, 1]))"
   ]
  },
  {
   "cell_type": "code",
   "execution_count": null,
   "metadata": {},
   "outputs": [],
   "source": [
    "p2 = cross_val_predict(XGBClassifier(n_estimators=8, learning_rate=0.4, max_depth=2),\n",
    "                      df.drop([\"pred\", \"y\"], axis=1), y, method=\"predict_proba\")\n",
    "print(log_loss(y, p2), roc_auc_score(y, p2[:, 1]))\n",
    "print(log_loss(y, (p1+p2)/2), roc_auc_score(y, ((p1+p2)/2)[:, 1]))"
   ]
  },
  {
   "cell_type": "code",
   "execution_count": null,
   "metadata": {},
   "outputs": [],
   "source": [
    "p = df[\"order_frac\"]\n",
    "print(log_loss(y, p), roc_auc_score(y, p))"
   ]
  },
  {
   "cell_type": "code",
   "execution_count": null,
   "metadata": {
    "collapsed": true
   },
   "outputs": [],
   "source": [
    "model = make_pipeline(MinMaxScaler(), LogisticRegression()).fit(df, y)\n",
    "with open(\"linear.pkl\", \"wb\")as f:\n",
    "    pkl.dump(model, f)\n",
    "model = make_pipeline(XGBClassifier(n_estimators=8, learning_rate=0.4)).fit(df, y)\n",
    "with open(\"xgb.pkl\", \"wb\")as f:\n",
    "    pkl.dump(model, f)"
   ]
  },
  {
   "cell_type": "code",
   "execution_count": null,
   "metadata": {
    "collapsed": true
   },
   "outputs": [],
   "source": [
    "df[\"pred\"] = p2[:,1]"
   ]
  },
  {
   "cell_type": "code",
   "execution_count": null,
   "metadata": {},
   "outputs": [],
   "source": [
    "points = []\n",
    "for i in np.linspace(0.05, 0.2, 16):\n",
    "    a = pd.DataFrame(df[df[\"pred\"] >= i].groupby(\"user_id\")[\"product_id\"].apply(list))\n",
    "    results = pd.merge(test, a, left_on=\"user_id\", right_index=True).join(truth, on=\"order_id\", rsuffix=\"_pred\")\n",
    "    score = f1_score(results[\"product_id\"], results[\"product_id_pred\"])\n",
    "    print(i, score)\n",
    "    points.append(score)"
   ]
  },
  {
   "cell_type": "code",
   "execution_count": null,
   "metadata": {
    "collapsed": true
   },
   "outputs": [],
   "source": [
    "df[\"y\"] = y"
   ]
  },
  {
   "cell_type": "code",
   "execution_count": null,
   "metadata": {},
   "outputs": [],
   "source": [
    "df"
   ]
  },
  {
   "cell_type": "code",
   "execution_count": null,
   "metadata": {},
   "outputs": [],
   "source": [
    "%matplotlib inline\n",
    "pd.Series(points, index=np.linspace(0.05, 0.2, 16)).plot()"
   ]
  },
  {
   "cell_type": "code",
   "execution_count": null,
   "metadata": {
    "collapsed": true
   },
   "outputs": [],
   "source": []
  }
 ],
 "metadata": {
  "kernelspec": {
   "display_name": "Python 3",
   "language": "python",
   "name": "python3"
  },
  "language_info": {
   "codemirror_mode": {
    "name": "ipython",
    "version": 3
   },
   "file_extension": ".py",
   "mimetype": "text/x-python",
   "name": "python",
   "nbconvert_exporter": "python",
   "pygments_lexer": "ipython3",
   "version": "3.5.2"
  }
 },
 "nbformat": 4,
 "nbformat_minor": 2
}
