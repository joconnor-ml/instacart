{
 "cells": [
  {
   "cell_type": "code",
   "execution_count": 1,
   "metadata": {},
   "outputs": [
    {
     "name": "stderr",
     "output_type": "stream",
     "text": [
      "/home/joe/kaggle/mercedes/.env/lib/python3.5/site-packages/sklearn/cross_validation.py:44: DeprecationWarning: This module was deprecated in version 0.18 in favor of the model_selection module into which all the refactored classes and functions are moved. Also note that the interface of the new CV iterators are different from that of this module. This module will be removed in 0.20.\n",
      "  \"This module will be removed in 0.20.\", DeprecationWarning)\n"
     ]
    }
   ],
   "source": [
    "import pickle as pkl\n",
    "import numpy as np\n",
    "import pandas as pd\n",
    "import operator\n",
    "from sklearn.linear_model import LogisticRegressionCV, LogisticRegression\n",
    "from sklearn.model_selection import cross_val_predict, cross_val_score, KFold\n",
    "from sklearn.pipeline import make_pipeline\n",
    "from sklearn.preprocessing import Imputer, StandardScaler, MinMaxScaler, PolynomialFeatures\n",
    "from sklearn.metrics import log_loss, roc_auc_score, f1_score\n",
    "from xgboost import XGBClassifier"
   ]
  },
  {
   "cell_type": "code",
   "execution_count": 2,
   "metadata": {
    "collapsed": true
   },
   "outputs": [],
   "source": [
    "def f1_score_single(y_true, y_pred):\n",
    "    try:\n",
    "        y_true = set(list(y_true))\n",
    "        y_pred = set(list(y_pred))\n",
    "        cross_size = len(y_true & y_pred)\n",
    "        if cross_size == 0: return 0.\n",
    "        p = 1. * cross_size / len(y_pred)\n",
    "        r = 1. * cross_size / len(y_true)\n",
    "        return 2 * p * r / (p + r)\n",
    "    except:\n",
    "        return 0\n",
    "    \n",
    "def f1_score(y_true, y_pred):\n",
    "    return np.mean([f1_score_single(x, y) for x, y in zip(y_true, y_pred)])"
   ]
  },
  {
   "cell_type": "code",
   "execution_count": 3,
   "metadata": {
    "collapsed": true
   },
   "outputs": [],
   "source": [
    "orders = pd.read_csv('../data/orders.csv', dtype={\"order_id\": np.int32, \"user_id\": np.int32,\n",
    "                                                  \"eval_set\": \"category\", \"order_number\": np.int32,\n",
    "                                                  \"order_dow\": np.int32, \"order_hour_of_day\": np.int32,\n",
    "                                                  \"days_since_prior_order\": np.float32})\n",
    "test = orders[orders[\"eval_set\"] == \"test\"]\n",
    "test_users = test[\"user_id\"].unique()\n",
    "train = orders[(orders[\"eval_set\"] == \"prior\") & (orders[\"user_id\"].isin(test_users))]"
   ]
  },
  {
   "cell_type": "code",
   "execution_count": 4,
   "metadata": {
    "collapsed": true
   },
   "outputs": [],
   "source": [
    "user_orders = train.groupby(\"user_id\")[\"order_id\"].apply(list)"
   ]
  },
  {
   "cell_type": "code",
   "execution_count": 5,
   "metadata": {},
   "outputs": [
    {
     "name": "stderr",
     "output_type": "stream",
     "text": [
      "/home/joe/kaggle/mercedes/.env/lib/python3.5/site-packages/numpy/lib/arraysetops.py:463: FutureWarning: elementwise comparison failed; returning scalar instead, but in the future will perform elementwise comparison\n",
      "  mask |= (ar1 == a)\n"
     ]
    }
   ],
   "source": [
    "train_products = pd.read_csv('../data/order_products__prior.csv', dtype=np.int32, index_col=0)\n",
    "train_products = train_products.loc[train[\"order_id\"], \"product_id\"].groupby(\"order_id\").apply(list)"
   ]
  },
  {
   "cell_type": "code",
   "execution_count": 6,
   "metadata": {
    "scrolled": true
   },
   "outputs": [
    {
     "name": "stdout",
     "output_type": "stream",
     "text": [
      "30000\n",
      "40000\n",
      "70000\n",
      "110000\n",
      "120000\n",
      "200000\n"
     ]
    }
   ],
   "source": [
    "from collections import defaultdict\n",
    "user_products = defaultdict(list)\n",
    "for user, order_ids in user_orders.iteritems():\n",
    "    if user % 10000 == 0: print(user)\n",
    "    products = train_products.loc[order_ids]\n",
    "    user_products[user] = products"
   ]
  },
  {
   "cell_type": "code",
   "execution_count": 7,
   "metadata": {},
   "outputs": [
    {
     "data": {
      "text/plain": [
       "order_id\n",
       "1374495    [9387, 17668, 15143, 16797, 39190, 47766, 2190...\n",
       "444309     [38596, 21903, 248, 40604, 8021, 17668, 21137,...\n",
       "3002854            [39190, 47766, 21903, 49683, 28373, 7503]\n",
       "2037211                    [1819, 12845, 9387, 16965, 24010]\n",
       "2710558    [39190, 9387, 17668, 47766, 16965, 28373, 2190...\n",
       "1972919    [22035, 39190, 9387, 47766, 1819, 24810, 14992...\n",
       "1839752    [39190, 1819, 21903, 43961, 16797, 24010, 1499...\n",
       "3225766    [39190, 22035, 43961, 18599, 21903, 47766, 425...\n",
       "3160850                  [39190, 47766, 16797, 43961, 48523]\n",
       "676467             [18599, 17668, 47766, 39190, 1005, 32402]\n",
       "521107                   [39190, 47766, 21903, 43961, 17668]\n",
       "1402502           [39190, 18599, 23650, 21903, 47766, 24810]\n",
       "Name: product_id, dtype: object"
      ]
     },
     "execution_count": 7,
     "metadata": {},
     "output_type": "execute_result"
    }
   ],
   "source": [
    "user_products[3]"
   ]
  },
  {
   "cell_type": "code",
   "execution_count": 15,
   "metadata": {},
   "outputs": [
    {
     "name": "stdout",
     "output_type": "stream",
     "text": [
      "0\n",
      "5000\n",
      "10000\n",
      "15000\n",
      "20000\n",
      "25000\n",
      "30000\n",
      "35000\n",
      "40000\n",
      "45000\n",
      "50000\n",
      "55000\n",
      "60000\n",
      "65000\n",
      "70000\n"
     ]
    }
   ],
   "source": [
    "rows = []\n",
    "for i, (user, products) in enumerate(user_products.items()):\n",
    "    if i % 5000 == 0: print(i)\n",
    "    product_counts = pd.Series(products.sum()).value_counts()\n",
    "    total_orders = products.shape[0]\n",
    "    for product, count in product_counts.iteritems():\n",
    "        in_last_order1 = product in products.iloc[-1]\n",
    "        in_last_order2 = product in products.iloc[-2]\n",
    "        in_last_order3 = product in products.iloc[-3]\n",
    "        rows.append([product, user, count, in_last_order1, in_last_order2, in_last_order3, total_orders]) #... etc"
   ]
  },
  {
   "cell_type": "code",
   "execution_count": 22,
   "metadata": {},
   "outputs": [
    {
     "name": "stdout",
     "output_type": "stream",
     "text": [
      "(4833292, 15)\n"
     ]
    },
    {
     "data": {
      "text/html": [
       "<div>\n",
       "<style>\n",
       "    .dataframe thead tr:only-child th {\n",
       "        text-align: right;\n",
       "    }\n",
       "\n",
       "    .dataframe thead th {\n",
       "        text-align: left;\n",
       "    }\n",
       "\n",
       "    .dataframe tbody tr th {\n",
       "        vertical-align: top;\n",
       "    }\n",
       "</style>\n",
       "<table border=\"1\" class=\"dataframe\">\n",
       "  <thead>\n",
       "    <tr style=\"text-align: right;\">\n",
       "      <th></th>\n",
       "      <th>product_id</th>\n",
       "      <th>user_id</th>\n",
       "      <th>product_count</th>\n",
       "      <th>in_last_order1</th>\n",
       "      <th>in_last_order2</th>\n",
       "      <th>in_last_order3</th>\n",
       "      <th>total_orders</th>\n",
       "      <th>order_frac</th>\n",
       "      <th>order_id</th>\n",
       "      <th>order_number</th>\n",
       "      <th>order_dow</th>\n",
       "      <th>order_hour_of_day</th>\n",
       "      <th>days_since_prior_order</th>\n",
       "      <th>aisle_id</th>\n",
       "      <th>department_id</th>\n",
       "    </tr>\n",
       "  </thead>\n",
       "  <tbody>\n",
       "    <tr>\n",
       "      <th>0</th>\n",
       "      <td>24852</td>\n",
       "      <td>131072</td>\n",
       "      <td>16</td>\n",
       "      <td>True</td>\n",
       "      <td>True</td>\n",
       "      <td>True</td>\n",
       "      <td>16</td>\n",
       "      <td>1.0000</td>\n",
       "      <td>806547</td>\n",
       "      <td>17</td>\n",
       "      <td>2</td>\n",
       "      <td>14</td>\n",
       "      <td>21.0</td>\n",
       "      <td>24</td>\n",
       "      <td>4</td>\n",
       "    </tr>\n",
       "    <tr>\n",
       "      <th>1</th>\n",
       "      <td>21903</td>\n",
       "      <td>131072</td>\n",
       "      <td>13</td>\n",
       "      <td>True</td>\n",
       "      <td>True</td>\n",
       "      <td>True</td>\n",
       "      <td>16</td>\n",
       "      <td>0.8125</td>\n",
       "      <td>806547</td>\n",
       "      <td>17</td>\n",
       "      <td>2</td>\n",
       "      <td>14</td>\n",
       "      <td>21.0</td>\n",
       "      <td>123</td>\n",
       "      <td>4</td>\n",
       "    </tr>\n",
       "    <tr>\n",
       "      <th>2</th>\n",
       "      <td>49683</td>\n",
       "      <td>131072</td>\n",
       "      <td>9</td>\n",
       "      <td>True</td>\n",
       "      <td>True</td>\n",
       "      <td>True</td>\n",
       "      <td>16</td>\n",
       "      <td>0.5625</td>\n",
       "      <td>806547</td>\n",
       "      <td>17</td>\n",
       "      <td>2</td>\n",
       "      <td>14</td>\n",
       "      <td>21.0</td>\n",
       "      <td>83</td>\n",
       "      <td>4</td>\n",
       "    </tr>\n",
       "    <tr>\n",
       "      <th>3</th>\n",
       "      <td>21137</td>\n",
       "      <td>131072</td>\n",
       "      <td>9</td>\n",
       "      <td>True</td>\n",
       "      <td>True</td>\n",
       "      <td>False</td>\n",
       "      <td>16</td>\n",
       "      <td>0.5625</td>\n",
       "      <td>806547</td>\n",
       "      <td>17</td>\n",
       "      <td>2</td>\n",
       "      <td>14</td>\n",
       "      <td>21.0</td>\n",
       "      <td>24</td>\n",
       "      <td>4</td>\n",
       "    </tr>\n",
       "    <tr>\n",
       "      <th>4</th>\n",
       "      <td>47144</td>\n",
       "      <td>131072</td>\n",
       "      <td>9</td>\n",
       "      <td>True</td>\n",
       "      <td>True</td>\n",
       "      <td>True</td>\n",
       "      <td>16</td>\n",
       "      <td>0.5625</td>\n",
       "      <td>806547</td>\n",
       "      <td>17</td>\n",
       "      <td>2</td>\n",
       "      <td>14</td>\n",
       "      <td>21.0</td>\n",
       "      <td>91</td>\n",
       "      <td>16</td>\n",
       "    </tr>\n",
       "  </tbody>\n",
       "</table>\n",
       "</div>"
      ],
      "text/plain": [
       "   product_id  user_id  product_count  in_last_order1  in_last_order2  \\\n",
       "0       24852   131072             16            True            True   \n",
       "1       21903   131072             13            True            True   \n",
       "2       49683   131072              9            True            True   \n",
       "3       21137   131072              9            True            True   \n",
       "4       47144   131072              9            True            True   \n",
       "\n",
       "   in_last_order3  total_orders  order_frac  order_id  order_number  \\\n",
       "0            True            16      1.0000    806547            17   \n",
       "1            True            16      0.8125    806547            17   \n",
       "2            True            16      0.5625    806547            17   \n",
       "3           False            16      0.5625    806547            17   \n",
       "4            True            16      0.5625    806547            17   \n",
       "\n",
       "   order_dow  order_hour_of_day  days_since_prior_order  aisle_id  \\\n",
       "0          2                 14                    21.0        24   \n",
       "1          2                 14                    21.0       123   \n",
       "2          2                 14                    21.0        83   \n",
       "3          2                 14                    21.0        24   \n",
       "4          2                 14                    21.0        91   \n",
       "\n",
       "   department_id  \n",
       "0              4  \n",
       "1              4  \n",
       "2              4  \n",
       "3              4  \n",
       "4             16  "
      ]
     },
     "execution_count": 22,
     "metadata": {},
     "output_type": "execute_result"
    }
   ],
   "source": [
    "df = pd.DataFrame(rows, columns=[\"product_id\", \"user_id\", \"product_count\",\n",
    "                                 \"in_last_order1\", \"in_last_order2\", \"in_last_order3\",\n",
    "                                 \"total_orders\"])\n",
    "df[\"order_frac\"] = df[\"product_count\"] / df[\"total_orders\"]\n",
    "df = pd.merge(df, test.drop([\"eval_set\"], axis=1), on=\"user_id\")\n",
    "df = pd.merge(df, pd.read_csv(\"../data/products.csv\", index_col=0,\n",
    "                              usecols=[\"product_id\", \"aisle_id\", \"department_id\"]),\n",
    "              how=\"left\", left_on=\"product_id\", right_index=True)\n",
    "print(df.shape)\n",
    "df.head()"
   ]
  },
  {
   "cell_type": "code",
   "execution_count": 24,
   "metadata": {},
   "outputs": [
    {
     "name": "stderr",
     "output_type": "stream",
     "text": [
      "/home/joe/kaggle/mercedes/.env/lib/python3.5/site-packages/pandas/core/indexing.py:179: SettingWithCopyWarning: \n",
      "A value is trying to be set on a copy of a slice from a DataFrame\n",
      "\n",
      "See the caveats in the documentation: http://pandas.pydata.org/pandas-docs/stable/indexing.html#indexing-view-versus-copy\n",
      "  self._setitem_with_indexer(indexer, value)\n"
     ]
    }
   ],
   "source": [
    "import pickle\n",
    "with open(\"xgb.pkl\", \"rb\") as f:\n",
    "    model = pickle.load(f)\n",
    "df[\"pred\"] = 0\n",
    "df[\"pred\"].iloc[:100000] = model.predict_proba(df.iloc[:100000].drop(\"pred\", axis=1))[:, 1]\n",
    "df[\"pred\"].iloc[100000:] = model.predict_proba(df.iloc[100000:].drop(\"pred\", axis=1))[:, 1]\n",
    "sub = df[df[\"pred\"] > 0.13].groupby(\"order_id\")[\"product_id\"].apply(lambda x: \" \".join(str(a) for a in x))\n",
    "samp = pd.read_csv(\"../data/sample_submission.csv\", index_col=0)\n",
    "sub.loc[samp.index].fillna(\"None\").to_csv(\"joe_xgb2.csv\")"
   ]
  },
  {
   "cell_type": "code",
   "execution_count": null,
   "metadata": {
    "collapsed": true
   },
   "outputs": [],
   "source": []
  }
 ],
 "metadata": {
  "kernelspec": {
   "display_name": "Python 3",
   "language": "python",
   "name": "python3"
  },
  "language_info": {
   "codemirror_mode": {
    "name": "ipython",
    "version": 3
   },
   "file_extension": ".py",
   "mimetype": "text/x-python",
   "name": "python",
   "nbconvert_exporter": "python",
   "pygments_lexer": "ipython3",
   "version": "3.5.2"
  }
 },
 "nbformat": 4,
 "nbformat_minor": 2
}
