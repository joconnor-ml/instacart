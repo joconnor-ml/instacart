{
 "cells": [
  {
   "cell_type": "code",
   "execution_count": 9,
   "metadata": {},
   "outputs": [],
   "source": [
    "import pickle as pkl\n",
    "import numpy as np\n",
    "import pandas as pd\n",
    "import operator\n",
    "from sklearn.linear_model import LogisticRegressionCV, LogisticRegression\n",
    "from sklearn.model_selection import cross_val_predict, cross_val_score, KFold\n",
    "from sklearn.pipeline import make_pipeline\n",
    "from sklearn.preprocessing import Imputer, StandardScaler, MinMaxScaler, PolynomialFeatures\n",
    "from sklearn.metrics import log_loss, roc_auc_score, f1_score\n",
    "from xgboost import XGBClassifier"
   ]
  },
  {
   "cell_type": "code",
   "execution_count": 50,
   "metadata": {
    "collapsed": true
   },
   "outputs": [],
   "source": [
    "def f1_score_single(y_true, y_pred):\n",
    "    y_true = set(list(y_true)) if len(y_true) > 0 else set([-1])\n",
    "    y_pred = set(list(y_pred))\n",
    "    cross_size = len(y_true & y_pred)\n",
    "    if cross_size == 0: return 0.\n",
    "    p = 1. * cross_size / len(y_pred)\n",
    "    r = 1. * cross_size / len(y_true)\n",
    "    return 2 * p * r / (p + r)\n",
    "    \n",
    "def f1_score(y_true, y_pred):\n",
    "    return np.mean([f1_score_single(x, y) for x, y in zip(y_true, y_pred)])"
   ]
  },
  {
   "cell_type": "code",
   "execution_count": 15,
   "metadata": {},
   "outputs": [
    {
     "name": "stderr",
     "output_type": "stream",
     "text": [
      "/home/joe/kaggle/instacart/.env/lib/python3.5/site-packages/numpy/lib/arraysetops.py:463: FutureWarning: elementwise comparison failed; returning scalar instead, but in the future will perform elementwise comparison\n",
      "  mask |= (ar1 == a)\n"
     ]
    },
    {
     "data": {
      "text/html": [
       "<div>\n",
       "<style>\n",
       "    .dataframe thead tr:only-child th {\n",
       "        text-align: right;\n",
       "    }\n",
       "\n",
       "    .dataframe thead th {\n",
       "        text-align: left;\n",
       "    }\n",
       "\n",
       "    .dataframe tbody tr th {\n",
       "        vertical-align: top;\n",
       "    }\n",
       "</style>\n",
       "<table border=\"1\" class=\"dataframe\">\n",
       "  <thead>\n",
       "    <tr style=\"text-align: right;\">\n",
       "      <th></th>\n",
       "      <th>product_id</th>\n",
       "      <th>user_id</th>\n",
       "      <th>product_count</th>\n",
       "      <th>in_last_order1</th>\n",
       "      <th>in_last_order2</th>\n",
       "      <th>in_last_order3</th>\n",
       "      <th>total_orders</th>\n",
       "      <th>order_number</th>\n",
       "      <th>order_dow</th>\n",
       "      <th>order_hour_of_day</th>\n",
       "      <th>days_since_prior_order</th>\n",
       "      <th>dummy</th>\n",
       "      <th>order_id</th>\n",
       "      <th>aisle_id</th>\n",
       "      <th>department_id</th>\n",
       "    </tr>\n",
       "  </thead>\n",
       "  <tbody>\n",
       "    <tr>\n",
       "      <th>0</th>\n",
       "      <td>196</td>\n",
       "      <td>1</td>\n",
       "      <td>10</td>\n",
       "      <td>True</td>\n",
       "      <td>True</td>\n",
       "      <td>True</td>\n",
       "      <td>10</td>\n",
       "      <td>11</td>\n",
       "      <td>4</td>\n",
       "      <td>8</td>\n",
       "      <td>14.0</td>\n",
       "      <td>1</td>\n",
       "      <td>1187899</td>\n",
       "      <td>77</td>\n",
       "      <td>7</td>\n",
       "    </tr>\n",
       "    <tr>\n",
       "      <th>1</th>\n",
       "      <td>12427</td>\n",
       "      <td>1</td>\n",
       "      <td>10</td>\n",
       "      <td>True</td>\n",
       "      <td>True</td>\n",
       "      <td>True</td>\n",
       "      <td>10</td>\n",
       "      <td>11</td>\n",
       "      <td>4</td>\n",
       "      <td>8</td>\n",
       "      <td>14.0</td>\n",
       "      <td>1</td>\n",
       "      <td>1187899</td>\n",
       "      <td>23</td>\n",
       "      <td>19</td>\n",
       "    </tr>\n",
       "    <tr>\n",
       "      <th>2</th>\n",
       "      <td>10258</td>\n",
       "      <td>1</td>\n",
       "      <td>9</td>\n",
       "      <td>True</td>\n",
       "      <td>True</td>\n",
       "      <td>True</td>\n",
       "      <td>10</td>\n",
       "      <td>11</td>\n",
       "      <td>4</td>\n",
       "      <td>8</td>\n",
       "      <td>14.0</td>\n",
       "      <td>1</td>\n",
       "      <td>1187899</td>\n",
       "      <td>117</td>\n",
       "      <td>19</td>\n",
       "    </tr>\n",
       "    <tr>\n",
       "      <th>3</th>\n",
       "      <td>25133</td>\n",
       "      <td>1</td>\n",
       "      <td>8</td>\n",
       "      <td>True</td>\n",
       "      <td>True</td>\n",
       "      <td>True</td>\n",
       "      <td>10</td>\n",
       "      <td>11</td>\n",
       "      <td>4</td>\n",
       "      <td>8</td>\n",
       "      <td>14.0</td>\n",
       "      <td>1</td>\n",
       "      <td>1187899</td>\n",
       "      <td>21</td>\n",
       "      <td>16</td>\n",
       "    </tr>\n",
       "    <tr>\n",
       "      <th>4</th>\n",
       "      <td>46149</td>\n",
       "      <td>1</td>\n",
       "      <td>3</td>\n",
       "      <td>True</td>\n",
       "      <td>True</td>\n",
       "      <td>True</td>\n",
       "      <td>10</td>\n",
       "      <td>11</td>\n",
       "      <td>4</td>\n",
       "      <td>8</td>\n",
       "      <td>14.0</td>\n",
       "      <td>1</td>\n",
       "      <td>1187899</td>\n",
       "      <td>77</td>\n",
       "      <td>7</td>\n",
       "    </tr>\n",
       "  </tbody>\n",
       "</table>\n",
       "</div>"
      ],
      "text/plain": [
       "   product_id  user_id  product_count  in_last_order1  in_last_order2  \\\n",
       "0         196        1             10            True            True   \n",
       "1       12427        1             10            True            True   \n",
       "2       10258        1              9            True            True   \n",
       "3       25133        1              8            True            True   \n",
       "4       46149        1              3            True            True   \n",
       "\n",
       "   in_last_order3  total_orders  order_number  order_dow  order_hour_of_day  \\\n",
       "0            True            10            11          4                  8   \n",
       "1            True            10            11          4                  8   \n",
       "2            True            10            11          4                  8   \n",
       "3            True            10            11          4                  8   \n",
       "4            True            10            11          4                  8   \n",
       "\n",
       "   days_since_prior_order  dummy  order_id  aisle_id  department_id  \n",
       "0                    14.0      1   1187899        77              7  \n",
       "1                    14.0      1   1187899        23             19  \n",
       "2                    14.0      1   1187899       117             19  \n",
       "3                    14.0      1   1187899        21             16  \n",
       "4                    14.0      1   1187899        77              7  "
      ]
     },
     "execution_count": 15,
     "metadata": {},
     "output_type": "execute_result"
    }
   ],
   "source": [
    "X = pd.read_csv(\"../data/reorder_features_train.csv\", index_col=0)\n",
    "X.head()"
   ]
  },
  {
   "cell_type": "code",
   "execution_count": 12,
   "metadata": {},
   "outputs": [
    {
     "name": "stderr",
     "output_type": "stream",
     "text": [
      "/home/joe/kaggle/instacart/.env/lib/python3.5/site-packages/numpy/lib/arraysetops.py:463: FutureWarning: elementwise comparison failed; returning scalar instead, but in the future will perform elementwise comparison\n",
      "  mask |= (ar1 == a)\n"
     ]
    }
   ],
   "source": [
    "reorders = pd.read_csv(\"../data/reorder_preds_train.csv\", index_col=0)\n",
    "none_preds = pd.read_csv(\"../data/none_preds_train.csv\", index_col=0)"
   ]
  },
  {
   "cell_type": "code",
   "execution_count": 21,
   "metadata": {
    "collapsed": true
   },
   "outputs": [],
   "source": [
    "reorders.index = X[\"order_id\"]\n",
    "reorders[\"product_id\"] = X[\"product_id\"].values"
   ]
  },
  {
   "cell_type": "code",
   "execution_count": 23,
   "metadata": {},
   "outputs": [
    {
     "data": {
      "text/html": [
       "<div>\n",
       "<style>\n",
       "    .dataframe thead tr:only-child th {\n",
       "        text-align: right;\n",
       "    }\n",
       "\n",
       "    .dataframe thead th {\n",
       "        text-align: left;\n",
       "    }\n",
       "\n",
       "    .dataframe tbody tr th {\n",
       "        vertical-align: top;\n",
       "    }\n",
       "</style>\n",
       "<table border=\"1\" class=\"dataframe\">\n",
       "  <thead>\n",
       "    <tr style=\"text-align: right;\">\n",
       "      <th></th>\n",
       "      <th>xgb</th>\n",
       "      <th>linear</th>\n",
       "      <th>mean</th>\n",
       "      <th>product_id</th>\n",
       "    </tr>\n",
       "    <tr>\n",
       "      <th>order_id</th>\n",
       "      <th></th>\n",
       "      <th></th>\n",
       "      <th></th>\n",
       "      <th></th>\n",
       "    </tr>\n",
       "  </thead>\n",
       "  <tbody>\n",
       "    <tr>\n",
       "      <th>1187899</th>\n",
       "      <td>0.598291</td>\n",
       "      <td>0.820084</td>\n",
       "      <td>0.709188</td>\n",
       "      <td>196</td>\n",
       "    </tr>\n",
       "    <tr>\n",
       "      <th>1187899</th>\n",
       "      <td>0.598291</td>\n",
       "      <td>0.800088</td>\n",
       "      <td>0.699189</td>\n",
       "      <td>12427</td>\n",
       "    </tr>\n",
       "    <tr>\n",
       "      <th>1187899</th>\n",
       "      <td>0.598291</td>\n",
       "      <td>0.763885</td>\n",
       "      <td>0.681088</td>\n",
       "      <td>10258</td>\n",
       "    </tr>\n",
       "    <tr>\n",
       "      <th>1187899</th>\n",
       "      <td>0.598291</td>\n",
       "      <td>0.723740</td>\n",
       "      <td>0.661016</td>\n",
       "      <td>25133</td>\n",
       "    </tr>\n",
       "    <tr>\n",
       "      <th>1187899</th>\n",
       "      <td>0.341717</td>\n",
       "      <td>0.481698</td>\n",
       "      <td>0.411708</td>\n",
       "      <td>46149</td>\n",
       "    </tr>\n",
       "  </tbody>\n",
       "</table>\n",
       "</div>"
      ],
      "text/plain": [
       "               xgb    linear      mean  product_id\n",
       "order_id                                          \n",
       "1187899   0.598291  0.820084  0.709188         196\n",
       "1187899   0.598291  0.800088  0.699189       12427\n",
       "1187899   0.598291  0.763885  0.681088       10258\n",
       "1187899   0.598291  0.723740  0.661016       25133\n",
       "1187899   0.341717  0.481698  0.411708       46149"
      ]
     },
     "execution_count": 23,
     "metadata": {},
     "output_type": "execute_result"
    }
   ],
   "source": [
    "reorders.head()"
   ]
  },
  {
   "cell_type": "code",
   "execution_count": 44,
   "metadata": {},
   "outputs": [
    {
     "name": "stderr",
     "output_type": "stream",
     "text": [
      "/home/joe/kaggle/instacart/.env/lib/python3.5/site-packages/numpy/lib/arraysetops.py:463: FutureWarning: elementwise comparison failed; returning scalar instead, but in the future will perform elementwise comparison\n",
      "  mask |= (ar1 == a)\n"
     ]
    },
    {
     "data": {
      "text/plain": [
       "(131209,)"
      ]
     },
     "execution_count": 44,
     "metadata": {},
     "output_type": "execute_result"
    }
   ],
   "source": [
    "truth = pd.read_csv('../data/order_products__train.csv', dtype=np.int32, index_col=0)\n",
    "truth = truth.groupby(\"order_id\")[[\"product_id\", \"reordered\"]].apply(lambda x: list(x.loc[x[\"reordered\"] == True, \"product_id\"]))\n",
    "truth.shape"
   ]
  },
  {
   "cell_type": "code",
   "execution_count": null,
   "metadata": {},
   "outputs": [
    {
     "name": "stdout",
     "output_type": "stream",
     "text": [
      "0.1 0.1 0.318160960413\n",
      "0.1 0.3 0.335695359146\n",
      "0.1 0.5 0.329815721577\n",
      "0.15 0.1 0.342589695114\n",
      "0.15 0.3 0.365846811077\n"
     ]
    }
   ],
   "source": [
    "for thr in np.linspace(0.1, 0.2, 3):\n",
    "    for thr2 in np.linspace(0.1, 0.5, 3):\n",
    "        preds = reorders[reorders[\"mean\"] >= thr].groupby(level=0)[\"product_id\"].apply(list).loc[truth.index]\n",
    "        nulls = preds[(preds.isnull())|(none_preds[\"mean\"] > thr2)].index\n",
    "        for i in nulls:\n",
    "            preds.loc[i] = [-1]\n",
    "        score = f1_score(truth.values, preds.values)\n",
    "        print(thr, thr2, score)"
   ]
  },
  {
   "cell_type": "code",
   "execution_count": null,
   "metadata": {
    "collapsed": true
   },
   "outputs": [],
   "source": []
  }
 ],
 "metadata": {
  "kernelspec": {
   "display_name": "Python 3",
   "language": "python",
   "name": "python3"
  },
  "language_info": {
   "codemirror_mode": {
    "name": "ipython",
    "version": 3
   },
   "file_extension": ".py",
   "mimetype": "text/x-python",
   "name": "python",
   "nbconvert_exporter": "python",
   "pygments_lexer": "ipython3",
   "version": "3.5.2"
  }
 },
 "nbformat": 4,
 "nbformat_minor": 2
}
